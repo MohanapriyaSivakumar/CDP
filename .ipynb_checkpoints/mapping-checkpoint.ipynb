{
 "cells": [
  {
   "cell_type": "markdown",
   "metadata": {},
   "source": [
    "# Mapping using Python\n",
    "\n",
    "Here we use geotext library to extract places names from the sentence.\n",
    "\n",
    "## Installation of geotext modules"
   ]
  },
  {
   "cell_type": "code",
   "execution_count": 262,
   "metadata": {},
   "outputs": [
    {
     "name": "stdout",
     "output_type": "stream",
     "text": [
      "Requirement already satisfied: geotext in c:\\users\\mohanapriya\\anaconda3\\lib\\site-packages (0.4.0)\n"
     ]
    }
   ],
   "source": [
    "!pip install geotext"
   ]
  },
  {
   "cell_type": "markdown",
   "metadata": {},
   "source": [
    "### Example to use GeoText module"
   ]
  },
  {
   "cell_type": "code",
   "execution_count": 4,
   "metadata": {},
   "outputs": [
    {
     "data": {
      "text/plain": [
       "['Chennai', 'Erode']"
      ]
     },
     "execution_count": 4,
     "metadata": {},
     "output_type": "execute_result"
    }
   ],
   "source": [
    "from geotext import GeoText\n",
    "\n",
    "places = GeoText(\"I was in Chennai on that day and next day i went to Erode\")\n",
    "places.cities"
   ]
  },
  {
   "attachments": {},
   "cell_type": "markdown",
   "metadata": {},
   "source": [
    "## Example to Exract place names from a website\n",
    "\n",
    "* here we going to extract place names from the caption of the picture on the site , \"https://www.gutenberg.org/files/64316/64316-h/64316-h.htm\"\n",
    "\n",
    "* also we used the method of previous web scraping method using BeautifulSoup module\n",
    "\n",
    "\n",
    "![](../images/map2.png)"
   ]
  },
  {
   "cell_type": "code",
   "execution_count": 5,
   "metadata": {},
   "outputs": [],
   "source": [
    "import urllib.request,sys,time\n",
    "from bs4 import BeautifulSoup\n",
    "import requests\n",
    "import pandas as pd\n",
    "from geotext import GeoText"
   ]
  },
  {
   "cell_type": "code",
   "execution_count": 6,
   "metadata": {},
   "outputs": [],
   "source": [
    "url=\"https://www.gutenberg.org/files/64316/64316-h/64316-h.htm\""
   ]
  },
  {
   "cell_type": "code",
   "execution_count": 266,
   "metadata": {},
   "outputs": [],
   "source": [
    "page=requests.get(url)\n",
    "     \n",
    "soup=BeautifulSoup(page.text,'html.parser')\n",
    "frame=[]\n",
    "resultframe=[]\n",
    "links=soup.find_all('div',attrs={'class':'ills'})\n",
    "#links=soup.find_all('li',attrs={'class':'o-listicle__item'})\n",
    "#print(links)\n",
    "filename=\"caption.csv\"\n",
    "f=open(filename,\"w\", encoding = 'utf-8')\n",
    "headers=\"Link,Caption\\n\"\n",
    "f.write(headers)\n",
    "u='https://www.gutenberg.org/files/64316/64316-h/'\n",
    "for i in links:\n",
    "    k=i.find_all('div',attrs={'class':'figcenter'})\n",
    "    for j in k:\n",
    "        l=j.find_all('a')\n",
    "        Link = u+l[1].find('img')['src'].strip()\n",
    "        cap=j.find('p',attrs={'class':'caption'}).text.strip()\n",
    "        \n",
    "        \n",
    "        a=cap.replace(' ',',').title()\n",
    "\n",
    "        result = GeoText(a,'US').cities\n",
    "        \n",
    "        if(result!=[]):\n",
    "            frame.append((Link,str(result[0])))\n",
    "            f.write(Link+\",\"+str(result[0])+\"\\n\")\n",
    "    resultframe.extend(frame)\n",
    "f.close()\n",
    "        "
   ]
  },
  {
   "cell_type": "code",
   "execution_count": 306,
   "metadata": {},
   "outputs": [
    {
     "name": "stdout",
     "output_type": "stream",
     "text": [
      "                                                Link      Caption\n",
      "0  https://www.gutenberg.org/files/64316/64316-h/...  Westminster\n",
      "1  https://www.gutenberg.org/files/64316/64316-h/...   Birmingham\n",
      "2  https://www.gutenberg.org/files/64316/64316-h/...         Kent\n",
      "3  https://www.gutenberg.org/files/64316/64316-h/...    Rotterdam\n",
      "4  https://www.gutenberg.org/files/64316/64316-h/...  Westminster\n"
     ]
    }
   ],
   "source": [
    "data=pd.DataFrame(resultframe, columns=['Link','Caption'])\n",
    "print(data)"
   ]
  },
  {
   "cell_type": "code",
   "execution_count": 214,
   "metadata": {},
   "outputs": [
    {
     "name": "stdout",
     "output_type": "stream",
     "text": [
      "Collecting arcgis\n",
      "  Downloading arcgis-1.8.3.post2.tar.gz (2.6 MB)\n",
      "Requirement already satisfied: six in c:\\users\\mohanapriya\\anaconda3\\lib\\site-packages (from arcgis) (1.15.0)\n",
      "Requirement already satisfied: ipywidgets>=7 in c:\\users\\mohanapriya\\anaconda3\\lib\\site-packages (from arcgis) (7.5.1)\n",
      "Requirement already satisfied: widgetsnbextension>=3 in c:\\users\\mohanapriya\\anaconda3\\lib\\site-packages (from arcgis) (3.5.1)\n",
      "Requirement already satisfied: pandas>=1 in c:\\users\\mohanapriya\\anaconda3\\lib\\site-packages (from arcgis) (1.0.5)\n",
      "Requirement already satisfied: numpy>=1.16.2 in c:\\users\\mohanapriya\\anaconda3\\lib\\site-packages (from arcgis) (1.18.5)\n",
      "Requirement already satisfied: matplotlib in c:\\users\\mohanapriya\\anaconda3\\lib\\site-packages (from arcgis) (3.2.2)\n",
      "Requirement already satisfied: keyring>=19 in c:\\users\\mohanapriya\\anaconda3\\lib\\site-packages (from arcgis) (21.2.1)\n",
      "Processing c:\\users\\mohanapriya\\appdata\\local\\pip\\cache\\wheels\\4d\\11\\58\\7d0a04db6c902ef42b717da2981807529f4922485141ab404f\\lerc-0.1.0-py3-none-any.whl\n",
      "Collecting ujson>=3\n",
      "  Using cached ujson-4.0.1-cp38-cp38-win_amd64.whl (44 kB)\n",
      "Requirement already satisfied: jupyterlab in c:\\users\\mohanapriya\\anaconda3\\lib\\site-packages (from arcgis) (2.1.5)\n",
      "Collecting python-certifi-win32\n",
      "  Using cached python_certifi_win32-1.6-py2.py3-none-any.whl (7.2 kB)\n",
      "Processing c:\\users\\mohanapriya\\appdata\\local\\pip\\cache\\wheels\\1f\\1b\\b5\\54affbefc8a7e2bdf1da000fc576b8a1c91338f1f327a04f4c\\pyshp-2.1.3-py3-none-any.whl\n",
      "Requirement already satisfied: requests in c:\\users\\mohanapriya\\anaconda3\\lib\\site-packages (from arcgis) (2.24.0)\n",
      "Collecting requests-oauthlib\n",
      "  Using cached requests_oauthlib-1.3.0-py2.py3-none-any.whl (23 kB)\n",
      "Collecting requests_toolbelt\n",
      "  Using cached requests_toolbelt-0.9.1-py2.py3-none-any.whl (54 kB)\n",
      "Collecting requests_ntlm\n",
      "  Using cached requests_ntlm-1.1.0-py2.py3-none-any.whl (5.7 kB)\n",
      "Requirement already satisfied: pywin32>=223 in c:\\users\\mohanapriya\\anaconda3\\lib\\site-packages (from arcgis) (227)\n",
      "Collecting requests-negotiate-sspi\n",
      "  Using cached requests_negotiate_sspi-0.5.2-py2.py3-none-any.whl (7.1 kB)\n",
      "Collecting requests-kerberos\n",
      "  Using cached requests_kerberos-0.12.0-py2.py3-none-any.whl (14 kB)\n",
      "Collecting winkerberos\n",
      "  Using cached winkerberos-0.7.0-cp38-cp38-win_amd64.whl (23 kB)\n",
      "Requirement already satisfied: traitlets>=4.3.1 in c:\\users\\mohanapriya\\anaconda3\\lib\\site-packages (from ipywidgets>=7->arcgis) (4.3.3)\n",
      "Requirement already satisfied: ipython>=4.0.0; python_version >= \"3.3\" in c:\\users\\mohanapriya\\anaconda3\\lib\\site-packages (from ipywidgets>=7->arcgis) (7.16.1)\n",
      "Requirement already satisfied: ipykernel>=4.5.1 in c:\\users\\mohanapriya\\anaconda3\\lib\\site-packages (from ipywidgets>=7->arcgis) (5.3.2)\n",
      "Requirement already satisfied: nbformat>=4.2.0 in c:\\users\\mohanapriya\\anaconda3\\lib\\site-packages (from ipywidgets>=7->arcgis) (5.0.7)\n",
      "Requirement already satisfied: notebook>=4.4.1 in c:\\users\\mohanapriya\\anaconda3\\lib\\site-packages (from widgetsnbextension>=3->arcgis) (6.0.3)\n",
      "Requirement already satisfied: pytz>=2017.2 in c:\\users\\mohanapriya\\anaconda3\\lib\\site-packages (from pandas>=1->arcgis) (2020.1)\n",
      "Requirement already satisfied: python-dateutil>=2.6.1 in c:\\users\\mohanapriya\\anaconda3\\lib\\site-packages (from pandas>=1->arcgis) (2.8.1)\n",
      "Requirement already satisfied: kiwisolver>=1.0.1 in c:\\users\\mohanapriya\\anaconda3\\lib\\site-packages (from matplotlib->arcgis) (1.2.0)\n",
      "Requirement already satisfied: cycler>=0.10 in c:\\users\\mohanapriya\\anaconda3\\lib\\site-packages (from matplotlib->arcgis) (0.10.0)\n",
      "Requirement already satisfied: pyparsing!=2.0.4,!=2.1.2,!=2.1.6,>=2.0.1 in c:\\users\\mohanapriya\\anaconda3\\lib\\site-packages (from matplotlib->arcgis) (2.4.7)\n",
      "Requirement already satisfied: pywin32-ctypes!=0.1.0,!=0.1.1; sys_platform == \"win32\" in c:\\users\\mohanapriya\\anaconda3\\lib\\site-packages (from keyring>=19->arcgis) (0.2.0)\n",
      "Requirement already satisfied: tornado!=6.0.0,!=6.0.1,!=6.0.2 in c:\\users\\mohanapriya\\anaconda3\\lib\\site-packages (from jupyterlab->arcgis) (6.0.4)\n",
      "Requirement already satisfied: jupyterlab_server<2.0,>=1.1.0 in c:\\users\\mohanapriya\\anaconda3\\lib\\site-packages (from jupyterlab->arcgis) (1.2.0)\n",
      "Requirement already satisfied: jinja2>=2.10 in c:\\users\\mohanapriya\\anaconda3\\lib\\site-packages (from jupyterlab->arcgis) (2.11.2)\n",
      "Requirement already satisfied: wrapt>=1.10.4 in c:\\users\\mohanapriya\\anaconda3\\lib\\site-packages (from python-certifi-win32->arcgis) (1.11.2)\n",
      "Requirement already satisfied: certifi in c:\\users\\mohanapriya\\anaconda3\\lib\\site-packages (from python-certifi-win32->arcgis) (2020.6.20)\n",
      "Collecting setuptools-scm\n",
      "  Using cached setuptools_scm-5.0.1-py2.py3-none-any.whl (28 kB)\n",
      "Requirement already satisfied: idna<3,>=2.5 in c:\\users\\mohanapriya\\anaconda3\\lib\\site-packages (from requests->arcgis) (2.10)\n",
      "Requirement already satisfied: chardet<4,>=3.0.2 in c:\\users\\mohanapriya\\anaconda3\\lib\\site-packages (from requests->arcgis) (3.0.4)\n",
      "Requirement already satisfied: urllib3!=1.25.0,!=1.25.1,<1.26,>=1.21.1 in c:\\users\\mohanapriya\\anaconda3\\lib\\site-packages (from requests->arcgis) (1.25.9)\n",
      "Collecting oauthlib>=3.0.0\n",
      "  Using cached oauthlib-3.1.0-py2.py3-none-any.whl (147 kB)\n",
      "Collecting ntlm-auth>=1.0.2\n",
      "  Using cached ntlm_auth-1.5.0-py2.py3-none-any.whl (29 kB)\n",
      "Requirement already satisfied: cryptography>=1.3 in c:\\users\\mohanapriya\\anaconda3\\lib\\site-packages (from requests_ntlm->arcgis) (2.9.2)\n",
      "Collecting pypiwin32>=223\n",
      "  Using cached pypiwin32-223-py3-none-any.whl (1.7 kB)\n",
      "Requirement already satisfied: ipython-genutils in c:\\users\\mohanapriya\\anaconda3\\lib\\site-packages (from traitlets>=4.3.1->ipywidgets>=7->arcgis) (0.2.0)\n",
      "Requirement already satisfied: decorator in c:\\users\\mohanapriya\\anaconda3\\lib\\site-packages (from traitlets>=4.3.1->ipywidgets>=7->arcgis) (4.4.2)\n",
      "Requirement already satisfied: prompt-toolkit!=3.0.0,!=3.0.1,<3.1.0,>=2.0.0 in c:\\users\\mohanapriya\\anaconda3\\lib\\site-packages (from ipython>=4.0.0; python_version >= \"3.3\"->ipywidgets>=7->arcgis) (3.0.5)\n",
      "Requirement already satisfied: pickleshare in c:\\users\\mohanapriya\\anaconda3\\lib\\site-packages (from ipython>=4.0.0; python_version >= \"3.3\"->ipywidgets>=7->arcgis) (0.7.5)\n",
      "Requirement already satisfied: backcall in c:\\users\\mohanapriya\\anaconda3\\lib\\site-packages (from ipython>=4.0.0; python_version >= \"3.3\"->ipywidgets>=7->arcgis) (0.2.0)\n",
      "Requirement already satisfied: colorama; sys_platform == \"win32\" in c:\\users\\mohanapriya\\anaconda3\\lib\\site-packages (from ipython>=4.0.0; python_version >= \"3.3\"->ipywidgets>=7->arcgis) (0.4.3)\n",
      "Requirement already satisfied: jedi>=0.10 in c:\\users\\mohanapriya\\anaconda3\\lib\\site-packages (from ipython>=4.0.0; python_version >= \"3.3\"->ipywidgets>=7->arcgis) (0.17.1)\n",
      "Requirement already satisfied: setuptools>=18.5 in c:\\users\\mohanapriya\\anaconda3\\lib\\site-packages (from ipython>=4.0.0; python_version >= \"3.3\"->ipywidgets>=7->arcgis) (49.2.0.post20200714)\n",
      "Requirement already satisfied: pygments in c:\\users\\mohanapriya\\anaconda3\\lib\\site-packages (from ipython>=4.0.0; python_version >= \"3.3\"->ipywidgets>=7->arcgis) (2.6.1)\n",
      "Requirement already satisfied: jupyter-client in c:\\users\\mohanapriya\\anaconda3\\lib\\site-packages (from ipykernel>=4.5.1->ipywidgets>=7->arcgis) (6.1.6)\n",
      "Requirement already satisfied: jupyter-core in c:\\users\\mohanapriya\\anaconda3\\lib\\site-packages (from nbformat>=4.2.0->ipywidgets>=7->arcgis) (4.6.3)\n",
      "Requirement already satisfied: jsonschema!=2.5.0,>=2.4 in c:\\users\\mohanapriya\\anaconda3\\lib\\site-packages (from nbformat>=4.2.0->ipywidgets>=7->arcgis) (3.2.0)\n",
      "Requirement already satisfied: nbconvert in c:\\users\\mohanapriya\\anaconda3\\lib\\site-packages (from notebook>=4.4.1->widgetsnbextension>=3->arcgis) (5.6.1)\n",
      "Requirement already satisfied: prometheus-client in c:\\users\\mohanapriya\\anaconda3\\lib\\site-packages (from notebook>=4.4.1->widgetsnbextension>=3->arcgis) (0.8.0)\n",
      "Requirement already satisfied: terminado>=0.8.1 in c:\\users\\mohanapriya\\anaconda3\\lib\\site-packages (from notebook>=4.4.1->widgetsnbextension>=3->arcgis) (0.8.3)\n",
      "Requirement already satisfied: pyzmq>=17 in c:\\users\\mohanapriya\\anaconda3\\lib\\site-packages (from notebook>=4.4.1->widgetsnbextension>=3->arcgis) (19.0.1)\n",
      "Requirement already satisfied: Send2Trash in c:\\users\\mohanapriya\\anaconda3\\lib\\site-packages (from notebook>=4.4.1->widgetsnbextension>=3->arcgis) (1.5.0)\n",
      "Requirement already satisfied: json5 in c:\\users\\mohanapriya\\anaconda3\\lib\\site-packages (from jupyterlab_server<2.0,>=1.1.0->jupyterlab->arcgis) (0.9.5)\n",
      "Requirement already satisfied: MarkupSafe>=0.23 in c:\\users\\mohanapriya\\anaconda3\\lib\\site-packages (from jinja2>=2.10->jupyterlab->arcgis) (1.1.1)\n",
      "Requirement already satisfied: cffi!=1.11.3,>=1.8 in c:\\users\\mohanapriya\\anaconda3\\lib\\site-packages (from cryptography>=1.3->requests_ntlm->arcgis) (1.14.0)\n",
      "Requirement already satisfied: wcwidth in c:\\users\\mohanapriya\\anaconda3\\lib\\site-packages (from prompt-toolkit!=3.0.0,!=3.0.1,<3.1.0,>=2.0.0->ipython>=4.0.0; python_version >= \"3.3\"->ipywidgets>=7->arcgis) (0.2.5)\n",
      "Requirement already satisfied: parso<0.8.0,>=0.7.0 in c:\\users\\mohanapriya\\anaconda3\\lib\\site-packages (from jedi>=0.10->ipython>=4.0.0; python_version >= \"3.3\"->ipywidgets>=7->arcgis) (0.7.0)\n",
      "Requirement already satisfied: attrs>=17.4.0 in c:\\users\\mohanapriya\\anaconda3\\lib\\site-packages (from jsonschema!=2.5.0,>=2.4->nbformat>=4.2.0->ipywidgets>=7->arcgis) (19.3.0)\n",
      "Requirement already satisfied: pyrsistent>=0.14.0 in c:\\users\\mohanapriya\\anaconda3\\lib\\site-packages (from jsonschema!=2.5.0,>=2.4->nbformat>=4.2.0->ipywidgets>=7->arcgis) (0.16.0)\n",
      "Requirement already satisfied: defusedxml in c:\\users\\mohanapriya\\anaconda3\\lib\\site-packages (from nbconvert->notebook>=4.4.1->widgetsnbextension>=3->arcgis) (0.6.0)\n",
      "Requirement already satisfied: pandocfilters>=1.4.1 in c:\\users\\mohanapriya\\anaconda3\\lib\\site-packages (from nbconvert->notebook>=4.4.1->widgetsnbextension>=3->arcgis) (1.4.2)\n",
      "Requirement already satisfied: entrypoints>=0.2.2 in c:\\users\\mohanapriya\\anaconda3\\lib\\site-packages (from nbconvert->notebook>=4.4.1->widgetsnbextension>=3->arcgis) (0.3)\n",
      "Requirement already satisfied: testpath in c:\\users\\mohanapriya\\anaconda3\\lib\\site-packages (from nbconvert->notebook>=4.4.1->widgetsnbextension>=3->arcgis) (0.4.4)\n",
      "Requirement already satisfied: mistune<2,>=0.8.1 in c:\\users\\mohanapriya\\anaconda3\\lib\\site-packages (from nbconvert->notebook>=4.4.1->widgetsnbextension>=3->arcgis) (0.8.4)\n",
      "Requirement already satisfied: bleach in c:\\users\\mohanapriya\\anaconda3\\lib\\site-packages (from nbconvert->notebook>=4.4.1->widgetsnbextension>=3->arcgis) (3.1.5)\n",
      "Requirement already satisfied: pycparser in c:\\users\\mohanapriya\\anaconda3\\lib\\site-packages (from cffi!=1.11.3,>=1.8->cryptography>=1.3->requests_ntlm->arcgis) (2.20)\n",
      "Requirement already satisfied: packaging in c:\\users\\mohanapriya\\anaconda3\\lib\\site-packages (from bleach->nbconvert->notebook>=4.4.1->widgetsnbextension>=3->arcgis) (20.4)\n",
      "Requirement already satisfied: webencodings in c:\\users\\mohanapriya\\anaconda3\\lib\\site-packages (from bleach->nbconvert->notebook>=4.4.1->widgetsnbextension>=3->arcgis) (0.5.1)\n",
      "Building wheels for collected packages: arcgis\n",
      "  Building wheel for arcgis (setup.py): started\n",
      "  Building wheel for arcgis (setup.py): finished with status 'done'\n",
      "  Created wheel for arcgis: filename=arcgis-1.8.3.post2-py2.py3-none-any.whl size=3187180 sha256=b088ea086b19c596df1b6330c31c84511782f3c325bdb090d72f59455be4a978\n",
      "  Stored in directory: c:\\users\\mohanapriya\\appdata\\local\\pip\\cache\\wheels\\05\\58\\c2\\0c313e9066ce8780c462b195d4c2408fa487c6c106a34b4508\n",
      "Successfully built arcgis\n",
      "Installing collected packages: lerc, ujson, setuptools-scm, python-certifi-win32, pyshp, oauthlib, requests-oauthlib, requests-toolbelt, ntlm-auth, requests-ntlm, pypiwin32, requests-negotiate-sspi, winkerberos, requests-kerberos, arcgis\n",
      "  Attempting uninstall: ujson\n",
      "    Found existing installation: ujson 1.35\n",
      "    Uninstalling ujson-1.35:\n",
      "      Successfully uninstalled ujson-1.35\n",
      "Successfully installed arcgis-1.8.3.post2 lerc-0.1.0 ntlm-auth-1.5.0 oauthlib-3.1.0 pypiwin32-223 pyshp-2.1.3 python-certifi-win32-1.6 requests-kerberos-0.12.0 requests-negotiate-sspi-0.5.2 requests-ntlm-1.1.0 requests-oauthlib-1.3.0 requests-toolbelt-0.9.1 setuptools-scm-5.0.1 ujson-4.0.1 winkerberos-0.7.0\n"
     ]
    }
   ],
   "source": [
    "!pip install arcgis"
   ]
  },
  {
   "cell_type": "code",
   "execution_count": 337,
   "metadata": {},
   "outputs": [
    {
     "name": "stdout",
     "output_type": "stream",
     "text": [
      "39.86347000000006 -105.05000999999999\n",
      "{'address': {'Match_addr': '4890-4998 W 92nd Ave, Westminster, Colorado, 80031', 'LongLabel': '4890-4998 W 92nd Ave, Westminster, CO, 80031, USA', 'ShortLabel': '4890-4998 W 92nd Ave', 'Addr_type': 'StreetAddress', 'Type': '', 'PlaceName': '', 'AddNum': '4944', 'Address': '4944 W 92nd Ave', 'Block': '', 'Sector': '', 'Neighborhood': 'South Central Westminster', 'District': '', 'City': 'Westminster', 'MetroArea': 'Denver Metro Area', 'Subregion': 'Adams County', 'Region': 'Colorado', 'Territory': '', 'Postal': '80031', 'PostalExt': '', 'CountryCode': 'USA'}, 'location': {'x': -105.05000999999999, 'y': 39.863412756606785, 'spatialReference': {'wkid': 4326, 'latestWkid': 4326}}}\n",
      "52.47891000000004 -1.9059199999999805\n",
      "{'address': {'Match_addr': 'Paradise Circus, Birmingham, West Midlands, England, B3 3', 'LongLabel': 'Paradise Circus, Birmingham, West Midlands, England, B3 3, GBR', 'ShortLabel': 'Paradise Circus', 'Addr_type': 'StreetName', 'Type': '', 'PlaceName': '', 'AddNum': '', 'Address': 'Paradise Circus', 'Block': '', 'Sector': '', 'Neighborhood': '', 'District': 'Birmingham', 'City': 'Birmingham', 'MetroArea': '', 'Subregion': 'West Midlands', 'Region': 'England', 'Territory': '', 'Postal': 'B3 3', 'PostalExt': '', 'CountryCode': 'GBR'}, 'location': {'x': -1.9059176525172958, 'y': 52.478913577205745, 'spatialReference': {'wkid': 4326, 'latestWkid': 4326}}}\n",
      "47.38053000000008 -122.23740999999995\n",
      "{'address': {'Match_addr': '200-226 4th Ave S, Kent, Washington, 98032', 'LongLabel': '200-226 4th Ave S, Kent, WA, 98032, USA', 'ShortLabel': '200-226 4th Ave S', 'Addr_type': 'StreetAddress', 'Type': '', 'PlaceName': '', 'AddNum': '212', 'Address': '212 4th Ave S', 'Block': '', 'Sector': '', 'Neighborhood': '', 'District': '', 'City': 'Kent', 'MetroArea': 'Seattle Metro Area', 'Subregion': 'King County', 'Region': 'Washington', 'Territory': '', 'Postal': '98032', 'PostalExt': '', 'CountryCode': 'USA'}, 'location': {'x': -122.23733033180116, 'y': 47.3805288314415, 'spatialReference': {'wkid': 4326, 'latestWkid': 4326}}}\n",
      "51.91438000000005 4.487160000000074\n",
      "{'address': {'Match_addr': 'Boompjes, 3011 Rotterdam', 'LongLabel': 'Boompjes, 3011 Rotterdam, NLD', 'ShortLabel': 'Boompjes', 'Addr_type': 'StreetName', 'Type': '', 'PlaceName': '', 'AddNum': '', 'Address': 'Boompjes', 'Block': '', 'Sector': '', 'Neighborhood': 'Stadscentrum', 'District': '', 'City': 'Rotterdam', 'MetroArea': '', 'Subregion': 'Rotterdam', 'Region': 'Zuid-Holland', 'Territory': '', 'Postal': '3011', 'PostalExt': '', 'CountryCode': 'NLD'}, 'location': {'x': 4.487159238654744, 'y': 51.91438113541226, 'spatialReference': {'wkid': 4326, 'latestWkid': 4326}}}\n",
      "39.86347000000006 -105.05000999999999\n",
      "{'address': {'Match_addr': '4890-4998 W 92nd Ave, Westminster, Colorado, 80031', 'LongLabel': '4890-4998 W 92nd Ave, Westminster, CO, 80031, USA', 'ShortLabel': '4890-4998 W 92nd Ave', 'Addr_type': 'StreetAddress', 'Type': '', 'PlaceName': '', 'AddNum': '4944', 'Address': '4944 W 92nd Ave', 'Block': '', 'Sector': '', 'Neighborhood': 'South Central Westminster', 'District': '', 'City': 'Westminster', 'MetroArea': 'Denver Metro Area', 'Subregion': 'Adams County', 'Region': 'Colorado', 'Territory': '', 'Postal': '80031', 'PostalExt': '', 'CountryCode': 'USA'}, 'location': {'x': -105.05000999999999, 'y': 39.863412756606785, 'spatialReference': {'wkid': 4326, 'latestWkid': 4326}}}\n"
     ]
    }
   ],
   "source": [
    "from arcgis.gis import GIS\n",
    "from arcgis.geometry import Point\n",
    "my_gis = GIS()\n",
    "import webbrowser\n",
    "\n",
    "m = my_gis.map()\n",
    "m = my_gis.map(\"US\", zoomlevel=4)\n",
    "from arcgis.geocoding import geocode, reverse_geocode\n",
    "\n",
    "\n",
    "def place_names(get_places):\n",
    "    i=get_places\n",
    "    geocoded=geocode(i)[0]['location']\n",
    "    return geocoded\n",
    "\n",
    "for i in data['Caption']:\n",
    "\n",
    "    geocoded=place_names(i)\n",
    "    lat=geocoded['y']\n",
    "    longi=geocoded['x']\n",
    "    print(lat,longi)\n",
    "    \n",
    "    location = {\n",
    "     'Y': lat,                 # `Y` is latitude\n",
    "     'X':  longi,               # `X` is longitude\n",
    "    'url':'www.google.com',\n",
    "     'spatialReference': {\n",
    "         'wkid':4326\n",
    "     }\n",
    "    }\n",
    "    unknown_pt = Point(location)\n",
    "    address = reverse_geocode(location=unknown_pt)\n",
    "    print(address)\n",
    "   \n",
    "    m.draw(address)\n",
    "  \n",
    "   "
   ]
  },
  {
   "cell_type": "code",
   "execution_count": 327,
   "metadata": {},
   "outputs": [
    {
     "data": {
      "application/vnd.jupyter.widget-view+json": {
       "model_id": "df900fad9c4e4a1b947bb585ef959708",
       "version_major": 2,
       "version_minor": 0
      },
      "text/plain": [
       "MapView(layout=Layout(height='400px', width='100%'))"
      ]
     },
     "metadata": {},
     "output_type": "display_data"
    },
    {
     "data": {
      "text/html": [
       "<div class=\"map-static-img-preview-d6224fe7-2412-4076-9f52-21060a5fc51b\"><img src=\"\"></img></div>"
      ],
      "text/plain": [
       "<IPython.core.display.HTML object>"
      ]
     },
     "metadata": {},
     "output_type": "display_data"
    },
    {
     "data": {
      "text/html": [
       "<div class=\"map-html-embed-preview-d6224fe7-2412-4076-9f52-21060a5fc51b\"></div>"
      ],
      "text/plain": [
       "<IPython.core.display.HTML object>"
      ]
     },
     "metadata": {},
     "output_type": "display_data"
    }
   ],
   "source": [
    "m"
   ]
  },
  {
   "cell_type": "code",
   "execution_count": 272,
   "metadata": {},
   "outputs": [],
   "source": [
    "from arcgis.geometry import Point"
   ]
  },
  {
   "cell_type": "code",
   "execution_count": 304,
   "metadata": {},
   "outputs": [
    {
     "data": {
      "text/plain": [
       "{'address': {'Match_addr': '4890-4998 W 92nd Ave, Westminster, Colorado, 80031',\n",
       "  'LongLabel': '4890-4998 W 92nd Ave, Westminster, CO, 80031, USA',\n",
       "  'ShortLabel': '4890-4998 W 92nd Ave',\n",
       "  'Addr_type': 'StreetAddress',\n",
       "  'Type': '',\n",
       "  'PlaceName': '',\n",
       "  'AddNum': '4944',\n",
       "  'Address': '4944 W 92nd Ave',\n",
       "  'Block': '',\n",
       "  'Sector': '',\n",
       "  'Neighborhood': 'South Central Westminster',\n",
       "  'District': '',\n",
       "  'City': 'Westminster',\n",
       "  'MetroArea': 'Denver Metro Area',\n",
       "  'Subregion': 'Adams County',\n",
       "  'Region': 'Colorado',\n",
       "  'Territory': '',\n",
       "  'Postal': '80031',\n",
       "  'PostalExt': '',\n",
       "  'CountryCode': 'USA'},\n",
       " 'location': {'x': -105.05000999999999,\n",
       "  'y': 39.863412756606785,\n",
       "  'spatialReference': {'wkid': 4326, 'latestWkid': 4326}}}"
      ]
     },
     "execution_count": 304,
     "metadata": {},
     "output_type": "execute_result"
    }
   ],
   "source": [
    "\n",
    "location = {\n",
    "     'Y': 39.86347000000006,                 # `Y` is latitude\n",
    "     'X':  -105.05000999999999,               # `X` is longitude\n",
    "     'spatialReference': {\n",
    "         'wkid':4326\n",
    "     }\n",
    "}\n",
    "unknown_pt = Point(location)\n",
    "address = reverse_geocode(location=unknown_pt)\n",
    "address"
   ]
  },
  {
   "cell_type": "code",
   "execution_count": 308,
   "metadata": {},
   "outputs": [
    {
     "data": {
      "application/vnd.jupyter.widget-view+json": {
       "model_id": "5ba1d4a4982a49db8492ddaa1703fd4d",
       "version_major": 2,
       "version_minor": 0
      },
      "text/plain": [
       "MapView(layout=Layout(height='400px', width='100%'))"
      ]
     },
     "metadata": {},
     "output_type": "display_data"
    },
    {
     "data": {
      "text/html": [
       "<div class=\"map-static-img-preview-92544295-da0d-440c-9a48-2fb6ba7ba555\"><img src=\"\"></img></div>"
      ],
      "text/plain": [
       "<IPython.core.display.HTML object>"
      ]
     },
     "metadata": {},
     "output_type": "display_data"
    },
    {
     "data": {
      "text/html": [
       "<div class=\"map-html-embed-preview-92544295-da0d-440c-9a48-2fb6ba7ba555\"></div>"
      ],
      "text/plain": [
       "<IPython.core.display.HTML object>"
      ]
     },
     "metadata": {},
     "output_type": "display_data"
    }
   ],
   "source": [
    "m = my_gis.map(\"USA\", zoomlevel=9)\n",
    "m.draw(address)\n",
    "m"
   ]
  },
  {
   "cell_type": "code",
   "execution_count": 323,
   "metadata": {},
   "outputs": [
    {
     "data": {
      "text/plain": [
       "['EWKT',\n",
       " 'JSON',\n",
       " 'WKB',\n",
       " 'WKT',\n",
       " '_HASARCPY',\n",
       " '_HASSHAPELY',\n",
       " '__class__',\n",
       " '__contains__',\n",
       " '__delattr__',\n",
       " '__delitem__',\n",
       " '__dict__',\n",
       " '__dir__',\n",
       " '__doc__',\n",
       " '__eq__',\n",
       " '__format__',\n",
       " '__ge__',\n",
       " '__geo_interface__',\n",
       " '__getattr__',\n",
       " '__getattribute__',\n",
       " '__getitem__',\n",
       " '__gt__',\n",
       " '__hash__',\n",
       " '__init__',\n",
       " '__init_subclass__',\n",
       " '__iter__',\n",
       " '__le__',\n",
       " '__len__',\n",
       " '__lt__',\n",
       " '__module__',\n",
       " '__ne__',\n",
       " '__new__',\n",
       " '__reduce__',\n",
       " '__reduce_ex__',\n",
       " '__repr__',\n",
       " '__reversed__',\n",
       " '__setattr__',\n",
       " '__setattribute__',\n",
       " '__setitem__',\n",
       " '__sizeof__',\n",
       " '__str__',\n",
       " '__subclasshook__',\n",
       " '__weakref__',\n",
       " '_ao',\n",
       " '_check_geometry_engine',\n",
       " '_class_attributes',\n",
       " '_repr_svg_',\n",
       " '_shoelace_area',\n",
       " '_type',\n",
       " '_wkt',\n",
       " 'angle_distance_to',\n",
       " 'area',\n",
       " 'as_arcpy',\n",
       " 'as_shapely',\n",
       " 'boundary',\n",
       " 'buffer',\n",
       " 'centroid',\n",
       " 'clear',\n",
       " 'clip',\n",
       " 'contains',\n",
       " 'convex_hull',\n",
       " 'copy',\n",
       " 'crosses',\n",
       " 'cut',\n",
       " 'densify',\n",
       " 'difference',\n",
       " 'disjoint',\n",
       " 'distance_to',\n",
       " 'envelope',\n",
       " 'equals',\n",
       " 'extent',\n",
       " 'first_point',\n",
       " 'from_shapely',\n",
       " 'fromkeys',\n",
       " 'generalize',\n",
       " 'geoextent',\n",
       " 'geometry_type',\n",
       " 'get',\n",
       " 'get_area',\n",
       " 'get_length',\n",
       " 'get_part',\n",
       " 'has_m',\n",
       " 'has_z',\n",
       " 'hull_rectangle',\n",
       " 'intersect',\n",
       " 'is_empty',\n",
       " 'is_multipart',\n",
       " 'is_valid',\n",
       " 'items',\n",
       " 'keys',\n",
       " 'label_point',\n",
       " 'last_point',\n",
       " 'length',\n",
       " 'length3D',\n",
       " 'measure_on_line',\n",
       " 'overlaps',\n",
       " 'part_count',\n",
       " 'point_count',\n",
       " 'point_from_angle_and_distance',\n",
       " 'pop',\n",
       " 'popitem',\n",
       " 'position_along_line',\n",
       " 'project_as',\n",
       " 'query_point_and_distance',\n",
       " 'rotate',\n",
       " 'scale',\n",
       " 'segment_along_line',\n",
       " 'setdefault',\n",
       " 'skew',\n",
       " 'snap_to_line',\n",
       " 'spatial_reference',\n",
       " 'symmetric_difference',\n",
       " 'touches',\n",
       " 'translate',\n",
       " 'true_centroid',\n",
       " 'union',\n",
       " 'update',\n",
       " 'values',\n",
       " 'within']"
      ]
     },
     "execution_count": 323,
     "metadata": {},
     "output_type": "execute_result"
    }
   ],
   "source": [
    "dir(unknown_pt)"
   ]
  },
  {
   "cell_type": "code",
   "execution_count": 328,
   "metadata": {},
   "outputs": [
    {
     "data": {
      "text/plain": [
       "True"
      ]
     },
     "execution_count": 328,
     "metadata": {},
     "output_type": "execute_result"
    }
   ],
   "source": [
    "file_path = r\"C:\\Users\\Mohanapriya\\myHurricane.html\"\n",
    "m.export_to_html(file_path)"
   ]
  },
  {
   "cell_type": "code",
   "execution_count": 330,
   "metadata": {},
   "outputs": [
    {
     "data": {
      "text/plain": [
       "['__class__',\n",
       " '__del__',\n",
       " '__delattr__',\n",
       " '__dict__',\n",
       " '__dir__',\n",
       " '__doc__',\n",
       " '__eq__',\n",
       " '__format__',\n",
       " '__ge__',\n",
       " '__getattribute__',\n",
       " '__getstate__',\n",
       " '__gt__',\n",
       " '__hash__',\n",
       " '__init__',\n",
       " '__init_subclass__',\n",
       " '__le__',\n",
       " '__lt__',\n",
       " '__module__',\n",
       " '__ne__',\n",
       " '__new__',\n",
       " '__reduce__',\n",
       " '__reduce_ex__',\n",
       " '__repr__',\n",
       " '__setattr__',\n",
       " '__setstate__',\n",
       " '__sizeof__',\n",
       " '__str__',\n",
       " '__subclasshook__',\n",
       " '__weakref__',\n",
       " '_add_graphic',\n",
       " '_add_layer_to_webmap',\n",
       " '_add_layer_to_widget',\n",
       " '_add_notifiers',\n",
       " '_add_notype_layer',\n",
       " '_add_overlay',\n",
       " '_add_this_graphic',\n",
       " '_add_this_notype_layer',\n",
       " '_add_to_hashed_layers',\n",
       " '_apply_renderer_to_webmap_layer_id',\n",
       " '_assemble_html_embed_html_str',\n",
       " '_assemble_img_preview_html_str',\n",
       " '_auth_mode',\n",
       " '_basemap',\n",
       " '_call_widget_constructed',\n",
       " '_cell_output_screenshot_callback_resp',\n",
       " '_cell_output_screenshot_update_callback',\n",
       " '_center',\n",
       " '_center_long_lat',\n",
       " '_check_for_drawn_layers',\n",
       " '_check_for_renderer_updates',\n",
       " '_check_if_graphic_already_saved',\n",
       " '_check_if_webmap',\n",
       " '_check_if_webscene',\n",
       " '_check_item_properties',\n",
       " '_clear_embed_html_preview',\n",
       " '_clear_static_image_preview',\n",
       " '_click_handlers',\n",
       " '_comm_changed',\n",
       " '_compare',\n",
       " '_cross_validation_lock',\n",
       " '_custom_msg',\n",
       " '_default_keys',\n",
       " '_default_webscene_text_property',\n",
       " '_display_callbacks',\n",
       " '_dlinks',\n",
       " '_dom_classes',\n",
       " '_draw_end_handlers',\n",
       " '_draw_featureset',\n",
       " '_draw_these_graphics_on_widget_load',\n",
       " '_draw_these_notype_layers_on_widget_load',\n",
       " '_extent',\n",
       " '_file_output_screenshot_callback_resp',\n",
       " '_file_output_screenshot_update_callback',\n",
       " '_gallery_basemaps',\n",
       " '_gen_repr_from_keys',\n",
       " '_get_embed_state',\n",
       " '_get_graphic_from_feature',\n",
       " '_get_hash',\n",
       " '_handle_custom_msg',\n",
       " '_handle_displayed',\n",
       " '_handle_map_msg',\n",
       " '_handle_msg',\n",
       " '_hashed_layers',\n",
       " '_heading',\n",
       " '_holding_sync',\n",
       " '_image_overlays_to_remove',\n",
       " '_infer_layers',\n",
       " '_ipython_display_',\n",
       " '_is_hashable',\n",
       " '_is_numpy',\n",
       " '_is_reachable',\n",
       " '_isinstance',\n",
       " '_js_cdn_override',\n",
       " '_layers_to_remove',\n",
       " '_link_writeonly_extent',\n",
       " '_link_writeonly_heading',\n",
       " '_link_writeonly_rotation',\n",
       " '_link_writeonly_tilt',\n",
       " '_lock_property',\n",
       " '_log_default',\n",
       " '_mapview_uuid_to_dlinks',\n",
       " '_model_id',\n",
       " '_model_module',\n",
       " '_model_module_version',\n",
       " '_model_name',\n",
       " '_msg_callbacks',\n",
       " '_notify_trait',\n",
       " '_overlay_these_images_on_widget_load',\n",
       " '_overlay_this_image',\n",
       " '_parse_js_resp',\n",
       " '_portal_sharing_rest_url',\n",
       " '_portal_token',\n",
       " '_portal_url',\n",
       " '_preview_html_embed_display_handler',\n",
       " '_preview_image_display_handler',\n",
       " '_preview_image_update_callback',\n",
       " '_preview_screenshot_callback_resp',\n",
       " '_property_lock',\n",
       " '_raster',\n",
       " '_readonly_center',\n",
       " '_readonly_end_time',\n",
       " '_readonly_extent',\n",
       " '_readonly_heading',\n",
       " '_readonly_rotation',\n",
       " '_readonly_scale',\n",
       " '_readonly_start_time',\n",
       " '_readonly_tilt',\n",
       " '_readonly_webmap_from_js',\n",
       " '_readonly_zoom',\n",
       " '_register_validator',\n",
       " '_remove_from_notype_layers',\n",
       " '_remove_notifiers',\n",
       " '_remove_overlay',\n",
       " '_repr_keys',\n",
       " '_rotation',\n",
       " '_save_as_webmap',\n",
       " '_save_as_webscene',\n",
       " '_scale',\n",
       " '_send',\n",
       " '_setup_default_basemap',\n",
       " '_setup_gis_properties',\n",
       " '_setup_js_cdn',\n",
       " '_should_send_property',\n",
       " '_snap_to_zoom',\n",
       " '_states_to_send',\n",
       " '_sync_navigation',\n",
       " '_synced_mapviews',\n",
       " '_tilt',\n",
       " '_time_info',\n",
       " '_trait_default_generators',\n",
       " '_trait_from_json',\n",
       " '_trait_notifiers',\n",
       " '_trait_to_json',\n",
       " '_trait_validators',\n",
       " '_trait_values',\n",
       " '_trigger_interactive_draw_mode_for',\n",
       " '_trigger_new_jlab_window_with_args',\n",
       " '_trigger_print_js_debug_info',\n",
       " '_trigger_screenshot_with_args',\n",
       " '_trigger_webscene_save_to_this_portal_id',\n",
       " '_unsync_navigation',\n",
       " '_update_as_webmap',\n",
       " '_update_as_webscene',\n",
       " '_update_time_extent_if_applicable',\n",
       " '_update_webmap_layers_from_js',\n",
       " '_username',\n",
       " '_uuid',\n",
       " '_view_count',\n",
       " '_view_module',\n",
       " '_view_module_version',\n",
       " '_view_name',\n",
       " '_webmap',\n",
       " '_webscene',\n",
       " '_widget_construction_callback',\n",
       " '_writeonly_end_time',\n",
       " '_writeonly_start_time',\n",
       " '_zoom',\n",
       " 'add_class',\n",
       " 'add_layer',\n",
       " 'add_traits',\n",
       " 'basemap',\n",
       " 'basemaps',\n",
       " 'center',\n",
       " 'class_own_trait_events',\n",
       " 'class_own_traits',\n",
       " 'class_trait_names',\n",
       " 'class_traits',\n",
       " 'clear_graphics',\n",
       " 'close',\n",
       " 'close_all',\n",
       " 'comm',\n",
       " 'cross_validation_lock',\n",
       " 'display_message',\n",
       " 'draw',\n",
       " 'embed',\n",
       " 'end_time',\n",
       " 'export_to_html',\n",
       " 'extent',\n",
       " 'gallery_basemaps',\n",
       " 'get_manager_state',\n",
       " 'get_state',\n",
       " 'get_view_spec',\n",
       " 'gis',\n",
       " 'handle_comm_opened',\n",
       " 'has_trait',\n",
       " 'heading',\n",
       " 'hide_mode_switch',\n",
       " 'hold_sync',\n",
       " 'hold_trait_notifications',\n",
       " 'jupyter_target',\n",
       " 'keys',\n",
       " 'layers',\n",
       " 'layout',\n",
       " 'legend',\n",
       " 'local_raster_file_format',\n",
       " 'log',\n",
       " 'mode',\n",
       " 'model_id',\n",
       " 'notify_change',\n",
       " 'observe',\n",
       " 'on_click',\n",
       " 'on_displayed',\n",
       " 'on_draw_end',\n",
       " 'on_msg',\n",
       " 'on_trait_change',\n",
       " 'on_widget_constructed',\n",
       " 'open',\n",
       " 'print_service_url',\n",
       " 'ready',\n",
       " 'remove_class',\n",
       " 'remove_layers',\n",
       " 'rotation',\n",
       " 'save',\n",
       " 'scale',\n",
       " 'send',\n",
       " 'send_state',\n",
       " 'set_js_cdn',\n",
       " 'set_state',\n",
       " 'set_time_extent',\n",
       " 'set_trait',\n",
       " 'setup_instance',\n",
       " 'snap_to_zoom',\n",
       " 'start_time',\n",
       " 'sync_navigation',\n",
       " 'tab_mode',\n",
       " 'take_screenshot',\n",
       " 'tilt',\n",
       " 'time_mode',\n",
       " 'time_slider',\n",
       " 'toggle_window_view',\n",
       " 'trait_events',\n",
       " 'trait_metadata',\n",
       " 'trait_names',\n",
       " 'traits',\n",
       " 'unobserve',\n",
       " 'unobserve_all',\n",
       " 'unsync_navigation',\n",
       " 'update',\n",
       " 'webmap',\n",
       " 'webmap_item',\n",
       " 'webscene_item',\n",
       " 'widget_types',\n",
       " 'widgets',\n",
       " 'zoom',\n",
       " 'zoom_to_layer']"
      ]
     },
     "execution_count": 330,
     "metadata": {},
     "output_type": "execute_result"
    }
   ],
   "source": [
    "dir(m)"
   ]
  },
  {
   "cell_type": "code",
   "execution_count": 333,
   "metadata": {},
   "outputs": [
    {
     "data": {
      "text/plain": [
       "True"
      ]
     },
     "execution_count": 333,
     "metadata": {},
     "output_type": "execute_result"
    }
   ],
   "source": [
    "import webbrowser\n",
    "webbrowser.open_new('http://127.0.0.1:2000/')"
   ]
  },
  {
   "cell_type": "code",
   "execution_count": null,
   "metadata": {},
   "outputs": [],
   "source": []
  }
 ],
 "metadata": {
  "kernelspec": {
   "display_name": "Python 3",
   "language": "python",
   "name": "python3"
  },
  "language_info": {
   "codemirror_mode": {
    "name": "ipython",
    "version": 3
   },
   "file_extension": ".py",
   "mimetype": "text/x-python",
   "name": "python",
   "nbconvert_exporter": "python",
   "pygments_lexer": "ipython3",
   "version": "3.8.3"
  }
 },
 "nbformat": 4,
 "nbformat_minor": 4
}
