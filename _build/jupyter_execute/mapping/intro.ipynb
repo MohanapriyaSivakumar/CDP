{
 "cells": [
  {
   "cell_type": "markdown",
   "metadata": {},
   "source": [
    "# Mapping\n",
    "\n",
    "## Introduction\n",
    "\n",
    "Maps are our visual representations of the world, and they shape our understanding of the world in a lot of ways. ... The map stretches the parts of the world that are nearer to the North and South poles (including Europe and North America), making them appear larger than they truly are.\n",
    "Visualizing data over a map is very helpful while working on data science which can be done through modules such as geopandas etc. Here we will be exploring the method to create geo map and visualize data over it, using arcgis and some other Python libraries\n",
    "\n",
    "![](../images/map.png)"
   ]
  },
  {
   "cell_type": "code",
   "execution_count": null,
   "metadata": {},
   "outputs": [],
   "source": []
  },
  {
   "cell_type": "markdown",
   "metadata": {},
   "source": [
    "\n",
    "```{toctree}\n",
    ":hidden:\n",
    ":titlesonly:\n",
    "\n",
    "\n",
    "mapping_code\n",
    "```\n"
   ]
  }
 ],
 "metadata": {
  "kernelspec": {
   "display_name": "Python 3",
   "language": "python",
   "name": "python3"
  },
  "language_info": {
   "codemirror_mode": {
    "name": "ipython",
    "version": 3
   },
   "file_extension": ".py",
   "mimetype": "text/x-python",
   "name": "python",
   "nbconvert_exporter": "python",
   "pygments_lexer": "ipython3",
   "version": "3.7.9"
  }
 },
 "nbformat": 4,
 "nbformat_minor": 4
}